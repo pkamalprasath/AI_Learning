{
 "cells": [
  {
   "cell_type": "markdown",
   "id": "4b2c060a-1467-4a97-bf40-ec3438800cbf",
   "metadata": {},
   "source": [
    "# LIST"
   ]
  },
  {
   "cell_type": "code",
   "execution_count": 2,
   "id": "6c83495e-2b26-4820-ac51-90d50dedc378",
   "metadata": {},
   "outputs": [],
   "source": [
    "lst=['Maths','Chem',1,2,3]"
   ]
  },
  {
   "cell_type": "code",
   "execution_count": 3,
   "id": "05dd3b00-5886-40bc-8f82-fdd2880f5add",
   "metadata": {},
   "outputs": [
    {
     "data": {
      "text/plain": [
       "list"
      ]
     },
     "execution_count": 3,
     "metadata": {},
     "output_type": "execute_result"
    }
   ],
   "source": [
    "type(lst)"
   ]
  },
  {
   "cell_type": "code",
   "execution_count": 6,
   "id": "be523f7d-7000-481e-8ec5-058688a4db90",
   "metadata": {},
   "outputs": [],
   "source": [
    "#Append function \n",
    "lst.append(\"kamal\")"
   ]
  },
  {
   "cell_type": "code",
   "execution_count": 7,
   "id": "005dca9a-0e88-4dc9-b2df-85bbacff12eb",
   "metadata": {},
   "outputs": [
    {
     "data": {
      "text/plain": [
       "['Maths', 'Chem', 1, 2, 3, 'kamal']"
      ]
     },
     "execution_count": 7,
     "metadata": {},
     "output_type": "execute_result"
    }
   ],
   "source": [
    "lst"
   ]
  },
  {
   "cell_type": "code",
   "execution_count": 10,
   "id": "38ce128e-d178-41b0-a4fe-311208c961b6",
   "metadata": {},
   "outputs": [],
   "source": [
    "# Nested list using append function\n",
    "lst.append(['12',13])"
   ]
  },
  {
   "cell_type": "code",
   "execution_count": 11,
   "id": "38997f1a-d494-402d-8368-062c1f6a3a0a",
   "metadata": {},
   "outputs": [
    {
     "data": {
      "text/plain": [
       "['Maths', 'Chem', 1, 2, 3, 'kamal', ['12', 13]]"
      ]
     },
     "execution_count": 11,
     "metadata": {},
     "output_type": "execute_result"
    }
   ],
   "source": [
    "lst"
   ]
  },
  {
   "cell_type": "code",
   "execution_count": 21,
   "id": "6969056c-602e-4925-886c-76d0b920f841",
   "metadata": {},
   "outputs": [
    {
     "data": {
      "text/plain": [
       "['Chem', 1, 2, 3, 'kamal', ['12', 13]]"
      ]
     },
     "execution_count": 21,
     "metadata": {},
     "output_type": "execute_result"
    }
   ],
   "source": [
    "#selction of value from list \n",
    "lst[:]\n"
   ]
  },
  {
   "cell_type": "code",
   "execution_count": 22,
   "id": "967bc0fa-bf70-4331-912e-199d9bdfd8bf",
   "metadata": {},
   "outputs": [
    {
     "data": {
      "text/plain": [
       "['Chem', 1, 2, 3, 'kamal', ['12', 13]]"
      ]
     },
     "execution_count": 22,
     "metadata": {},
     "output_type": "execute_result"
    }
   ],
   "source": [
    "lst[1:]"
   ]
  },
  {
   "cell_type": "code",
   "execution_count": 23,
   "id": "4a062df5-62d7-40b1-a7ae-fb3a4b37b674",
   "metadata": {},
   "outputs": [
    {
     "data": {
      "text/plain": [
       "['Chem', 1, 2, 3]"
      ]
     },
     "execution_count": 23,
     "metadata": {},
     "output_type": "execute_result"
    }
   ],
   "source": [
    "lst[1:5]"
   ]
  },
  {
   "cell_type": "markdown",
   "id": "f60595a1-fbf4-4cec-84e2-a6255852c15c",
   "metadata": {},
   "source": [
    "#Insert Function"
   ]
  },
  {
   "cell_type": "code",
   "execution_count": 29,
   "id": "4d3daeb5-3551-4e7f-b55e-8dc6dbed7134",
   "metadata": {},
   "outputs": [],
   "source": [
    "#Insert in specfic orcer \n",
    "lst.insert(1,'Sample')"
   ]
  },
  {
   "cell_type": "code",
   "execution_count": 27,
   "id": "c0c4f7e9-c5e5-424e-85f0-724fb9242174",
   "metadata": {},
   "outputs": [
    {
     "data": {
      "text/plain": [
       "['Maths', 'Sample', 'Chem', 1, 2, 3, 'kamal', ['12', 13]]"
      ]
     },
     "execution_count": 27,
     "metadata": {},
     "output_type": "execute_result"
    }
   ],
   "source": [
    "lst\n"
   ]
  },
  {
   "cell_type": "code",
   "execution_count": 30,
   "id": "48836f2f-3fc6-41b9-a93c-102725f67f3c",
   "metadata": {},
   "outputs": [],
   "source": [
    "#Extend Method\n",
    "lst=[1,2,3.4,5]\n",
    "lst.extend([6,7])"
   ]
  },
  {
   "cell_type": "code",
   "execution_count": 31,
   "id": "ffb9d7f9-aa1f-47df-9a9c-5d12bfac7a4d",
   "metadata": {},
   "outputs": [
    {
     "data": {
      "text/plain": [
       "[1, 2, 3.4, 5, 6, 7]"
      ]
     },
     "execution_count": 31,
     "metadata": {},
     "output_type": "execute_result"
    }
   ],
   "source": [
    "lst"
   ]
  },
  {
   "cell_type": "code",
   "execution_count": 32,
   "id": "ba895d1d-c022-4543-907b-d2c066a4a78f",
   "metadata": {},
   "outputs": [
    {
     "data": {
      "text/plain": [
       "7"
      ]
     },
     "execution_count": 32,
     "metadata": {},
     "output_type": "execute_result"
    }
   ],
   "source": [
    "#various operation\n",
    "sum(lst)\n",
    "min(lst)\n",
    "max(lst)\n"
   ]
  },
  {
   "cell_type": "code",
   "execution_count": 33,
   "id": "6e9af897-842b-4dc2-b240-49f2a2169299",
   "metadata": {},
   "outputs": [
    {
     "data": {
      "text/plain": [
       "7"
      ]
     },
     "execution_count": 33,
     "metadata": {},
     "output_type": "execute_result"
    }
   ],
   "source": [
    "lst.pop()"
   ]
  },
  {
   "cell_type": "code",
   "execution_count": 34,
   "id": "84c81686-c53c-49db-ba1c-4230d1240f32",
   "metadata": {},
   "outputs": [
    {
     "data": {
      "text/plain": [
       "[1, 2, 3.4, 5, 6]"
      ]
     },
     "execution_count": 34,
     "metadata": {},
     "output_type": "execute_result"
    }
   ],
   "source": [
    "lst"
   ]
  },
  {
   "cell_type": "code",
   "execution_count": 35,
   "id": "abbf4ad6-9b22-4943-9b26-07ef571f2c85",
   "metadata": {},
   "outputs": [
    {
     "data": {
      "text/plain": [
       "2"
      ]
     },
     "execution_count": 35,
     "metadata": {},
     "output_type": "execute_result"
    }
   ],
   "source": [
    "lst.pop(1)"
   ]
  },
  {
   "cell_type": "code",
   "execution_count": 36,
   "id": "bdea8864-1f14-4a21-acfa-9a9e3c8c9848",
   "metadata": {},
   "outputs": [
    {
     "data": {
      "text/plain": [
       "[1, 3.4, 5, 6]"
      ]
     },
     "execution_count": 36,
     "metadata": {},
     "output_type": "execute_result"
    }
   ],
   "source": [
    "lst"
   ]
  },
  {
   "cell_type": "code",
   "execution_count": 42,
   "id": "f9334cb9-fd2a-4ae8-b934-4427771b3240",
   "metadata": {},
   "outputs": [
    {
     "data": {
      "text/plain": [
       "1"
      ]
     },
     "execution_count": 42,
     "metadata": {},
     "output_type": "execute_result"
    }
   ],
   "source": [
    "#count function for count number for occcurence of given element.\n",
    "lst.count(1)\n"
   ]
  },
  {
   "cell_type": "code",
   "execution_count": 43,
   "id": "c37646bd-8275-4645-aa65-4792bbcd09f0",
   "metadata": {},
   "outputs": [
    {
     "data": {
      "text/plain": [
       "4"
      ]
     },
     "execution_count": 43,
     "metadata": {},
     "output_type": "execute_result"
    }
   ],
   "source": [
    "#length fucntion to give length of list\n",
    "len(lst)"
   ]
  },
  {
   "cell_type": "code",
   "execution_count": 47,
   "id": "8aadf4c5-baed-41c2-b1bc-f0f80cf35fc6",
   "metadata": {},
   "outputs": [
    {
     "data": {
      "text/plain": [
       "2"
      ]
     },
     "execution_count": 47,
     "metadata": {},
     "output_type": "execute_result"
    }
   ],
   "source": [
    "#Index function to find the particular value's first occurence in the given list,\n",
    "lst.index(5,0,4)"
   ]
  },
  {
   "cell_type": "markdown",
   "id": "02a79813-6ae9-4bf2-9845-4b2ec52c952e",
   "metadata": {},
   "source": [
    "# SETS\n",
    "No duplicates, No indexing for data retrieval"
   ]
  },
  {
   "cell_type": "code",
   "execution_count": 48,
   "id": "a3cc1f21-feeb-45fd-9fb7-5649482af299",
   "metadata": {},
   "outputs": [],
   "source": [
    "set_var={1,2,3,4}"
   ]
  },
  {
   "cell_type": "code",
   "execution_count": 49,
   "id": "c7287d78-e662-41e4-9ca1-84a69ebfb544",
   "metadata": {},
   "outputs": [
    {
     "data": {
      "text/plain": [
       "set"
      ]
     },
     "execution_count": 49,
     "metadata": {},
     "output_type": "execute_result"
    }
   ],
   "source": [
    "type(set_var)"
   ]
  },
  {
   "cell_type": "code",
   "execution_count": 61,
   "id": "2c29df75-e88b-4496-a9de-20e62a7af938",
   "metadata": {},
   "outputs": [],
   "source": [
    "set1={1,2,3,4}\n",
    "set2={1,4,5,3}"
   ]
  },
  {
   "cell_type": "code",
   "execution_count": 51,
   "id": "148df49d-8c4d-4247-bb9d-9778b2be9ced",
   "metadata": {},
   "outputs": [
    {
     "data": {
      "text/plain": [
       "{1, 3, 4}"
      ]
     },
     "execution_count": 51,
     "metadata": {},
     "output_type": "execute_result"
    }
   ],
   "source": [
    "set2.intersection(set1) #it will show only the common element between set1 and set2"
   ]
  },
  {
   "cell_type": "code",
   "execution_count": 57,
   "id": "d47e2448-7276-405e-a236-21746b61c217",
   "metadata": {},
   "outputs": [
    {
     "data": {
      "text/plain": [
       "{1, 3, 4, 5}"
      ]
     },
     "execution_count": 57,
     "metadata": {},
     "output_type": "execute_result"
    }
   ],
   "source": [
    "set2"
   ]
  },
  {
   "cell_type": "code",
   "execution_count": 58,
   "id": "ebd6d611-71fd-4b0e-be31-259421a3d20b",
   "metadata": {},
   "outputs": [],
   "source": [
    "set2.intersection_update(set1)"
   ]
  },
  {
   "cell_type": "code",
   "execution_count": 59,
   "id": "a623fc90-211b-400a-86d5-4cbcd5c6abbb",
   "metadata": {},
   "outputs": [
    {
     "data": {
      "text/plain": [
       "{1, 3, 4}"
      ]
     },
     "execution_count": 59,
     "metadata": {},
     "output_type": "execute_result"
    }
   ],
   "source": [
    "set2"
   ]
  },
  {
   "cell_type": "code",
   "execution_count": 60,
   "id": "9ce3636c-3fca-45a2-9e04-c681b0d9c484",
   "metadata": {},
   "outputs": [],
   "source": [
    "#Difference it will remove common element between set1 and set2 "
   ]
  },
  {
   "cell_type": "code",
   "execution_count": 73,
   "id": "4e5db96c-bf45-44a7-a479-f1969fce6e98",
   "metadata": {},
   "outputs": [],
   "source": [
    "set1={1,2,3,4}\n",
    "set2={1,4,5,3}"
   ]
  },
  {
   "cell_type": "code",
   "execution_count": 74,
   "id": "fbc69498-79aa-4122-abde-58808f7b3e15",
   "metadata": {},
   "outputs": [],
   "source": [
    "set2.difference_update(set1)"
   ]
  },
  {
   "cell_type": "code",
   "execution_count": 75,
   "id": "45677aa6-ff65-4ccf-8fdf-7e4afcff3444",
   "metadata": {},
   "outputs": [
    {
     "data": {
      "text/plain": [
       "{5}"
      ]
     },
     "execution_count": 75,
     "metadata": {},
     "output_type": "execute_result"
    }
   ],
   "source": [
    "set2"
   ]
  },
  {
   "cell_type": "code",
   "execution_count": 76,
   "id": "ba1ab10d-35d6-4e8c-a1c2-392fcfa5e027",
   "metadata": {},
   "outputs": [
    {
     "data": {
      "text/plain": [
       "{1, 2, 3, 4}"
      ]
     },
     "execution_count": 76,
     "metadata": {},
     "output_type": "execute_result"
    }
   ],
   "source": [
    "set1"
   ]
  },
  {
   "cell_type": "markdown",
   "id": "4786544e-d3cd-4c31-9191-0b4f550172ad",
   "metadata": {},
   "source": [
    "# Dictonaries \n",
    "\n",
    "key and value pair in curly brackets."
   ]
  },
  {
   "cell_type": "code",
   "execution_count": 78,
   "id": "78d7616e-36ce-4c40-b98c-3b2cccb6b2d7",
   "metadata": {},
   "outputs": [],
   "source": [
    "my_dict={1:'Name1',2:'Name2',3:'Name3'}"
   ]
  },
  {
   "cell_type": "code",
   "execution_count": 79,
   "id": "a3ef73f5-57fb-4173-a4ed-e26cd0f041cf",
   "metadata": {},
   "outputs": [
    {
     "data": {
      "text/plain": [
       "dict"
      ]
     },
     "execution_count": 79,
     "metadata": {},
     "output_type": "execute_result"
    }
   ],
   "source": [
    "type(my_dict)"
   ]
  },
  {
   "cell_type": "code",
   "execution_count": 82,
   "id": "b7763c8b-9c9d-4e8d-92d0-c9c6a5a84a3d",
   "metadata": {},
   "outputs": [
    {
     "data": {
      "text/plain": [
       "'Name1'"
      ]
     },
     "execution_count": 82,
     "metadata": {},
     "output_type": "execute_result"
    }
   ],
   "source": [
    "my_dict[1] # For retrieving the data we need to use keys instead of index values"
   ]
  },
  {
   "cell_type": "code",
   "execution_count": 83,
   "id": "b2efdcb8-9239-4fea-9775-40d95dee66b3",
   "metadata": {},
   "outputs": [
    {
     "name": "stdout",
     "output_type": "stream",
     "text": [
      "1\n",
      "2\n",
      "3\n"
     ]
    }
   ],
   "source": [
    "# accesss keys using for loop \n",
    "for x in my_dict: \n",
    "    print(x)"
   ]
  },
  {
   "cell_type": "code",
   "execution_count": 84,
   "id": "a18bbc8a-1537-49ec-8525-3061ec0ba455",
   "metadata": {},
   "outputs": [
    {
     "name": "stdout",
     "output_type": "stream",
     "text": [
      "Name1\n",
      "Name2\n",
      "Name3\n"
     ]
    }
   ],
   "source": [
    "#Accessing value by using for loop\n",
    "for x in my_dict.values():\n",
    "    print(x)"
   ]
  },
  {
   "cell_type": "code",
   "execution_count": 85,
   "id": "a6f33467-5c9b-4598-836f-cc5defb3b042",
   "metadata": {},
   "outputs": [
    {
     "name": "stdout",
     "output_type": "stream",
     "text": [
      "(1, 'Name1')\n",
      "(2, 'Name2')\n",
      "(3, 'Name3')\n"
     ]
    }
   ],
   "source": [
    "# accesing both key and value \n",
    "\n",
    "for x in my_dict.items():\n",
    "    print(x)"
   ]
  },
  {
   "cell_type": "markdown",
   "id": "84b55d51-eb5e-48f6-a2e1-64c28e9273c5",
   "metadata": {},
   "source": [
    "## Nested Dictonary"
   ]
  },
  {
   "cell_type": "code",
   "execution_count": 86,
   "id": "d17a6cf5-557e-429c-a610-493513376ce5",
   "metadata": {},
   "outputs": [],
   "source": [
    "car_model1={'Mercedes':1960}\n",
    "car_model2={'Audi':1970}\n",
    "car_model3={'BMW':1999}\n",
    "\n",
    "car_type ={'car1':car_model1,'car2':car_model2,'car3':car_model3}"
   ]
  },
  {
   "cell_type": "code",
   "execution_count": 88,
   "id": "c8b1a52f-6b24-430e-b879-77731181e1d3",
   "metadata": {},
   "outputs": [
    {
     "name": "stdout",
     "output_type": "stream",
     "text": [
      "{'car1': {'Mercedes': 1960}, 'car2': {'Audi': 1970}, 'car3': {'BMW': 1999}}\n"
     ]
    }
   ],
   "source": [
    "print(car_type)"
   ]
  },
  {
   "cell_type": "code",
   "execution_count": 90,
   "id": "83869c10-d7b2-4c26-9f05-129e65a39ad2",
   "metadata": {},
   "outputs": [
    {
     "name": "stdout",
     "output_type": "stream",
     "text": [
      "{'Mercedes': 1960}\n"
     ]
    }
   ],
   "source": [
    "print(car_type['car1'])"
   ]
  },
  {
   "cell_type": "code",
   "execution_count": 91,
   "id": "4294d3a7-34e5-4c28-91ea-32b99b7ba63c",
   "metadata": {},
   "outputs": [
    {
     "name": "stdout",
     "output_type": "stream",
     "text": [
      "1960\n"
     ]
    }
   ],
   "source": [
    "print(car_type['car1']['Mercedes'])"
   ]
  },
  {
   "cell_type": "markdown",
   "id": "cf206f99-2714-4758-9d35-16a785375e7b",
   "metadata": {},
   "source": [
    "## Tuples - \n",
    "we can change element assigment , we can change total tuples "
   ]
  },
  {
   "cell_type": "code",
   "execution_count": 92,
   "id": "4e5d9fea-a9c0-4276-b989-7f15041d1d3f",
   "metadata": {},
   "outputs": [],
   "source": [
    "tup_set=(1,2,3)"
   ]
  },
  {
   "cell_type": "code",
   "execution_count": 93,
   "id": "b50dacb6-bf48-4555-82eb-0038f9ce48f6",
   "metadata": {},
   "outputs": [
    {
     "data": {
      "text/plain": [
       "tuple"
      ]
     },
     "execution_count": 93,
     "metadata": {},
     "output_type": "execute_result"
    }
   ],
   "source": [
    "type(tup_set)"
   ]
  },
  {
   "cell_type": "code",
   "execution_count": 94,
   "id": "70ebd364-bb0e-4e45-ba93-17b007d27ed5",
   "metadata": {},
   "outputs": [
    {
     "data": {
      "text/plain": [
       "1"
      ]
     },
     "execution_count": 94,
     "metadata": {},
     "output_type": "execute_result"
    }
   ],
   "source": [
    "tup_set[0]"
   ]
  },
  {
   "cell_type": "code",
   "execution_count": 95,
   "id": "08698245-9ee1-401c-9e2f-73675702951d",
   "metadata": {},
   "outputs": [
    {
     "ename": "TypeError",
     "evalue": "'tuple' object does not support item assignment",
     "output_type": "error",
     "traceback": [
      "\u001b[1;31m---------------------------------------------------------------------------\u001b[0m",
      "\u001b[1;31mTypeError\u001b[0m                                 Traceback (most recent call last)",
      "Cell \u001b[1;32mIn[95], line 1\u001b[0m\n\u001b[1;32m----> 1\u001b[0m tup_set[\u001b[38;5;241m0\u001b[39m]\u001b[38;5;241m=\u001b[39m\u001b[38;5;241m5\u001b[39m\n",
      "\u001b[1;31mTypeError\u001b[0m: 'tuple' object does not support item assignment"
     ]
    }
   ],
   "source": [
    "tup_set[0]=5"
   ]
  },
  {
   "cell_type": "code",
   "execution_count": 96,
   "id": "8222b5d0-0c41-473e-b193-26f7001e2f1c",
   "metadata": {},
   "outputs": [],
   "source": [
    "tup_set=(6,7,8)"
   ]
  },
  {
   "cell_type": "code",
   "execution_count": 97,
   "id": "0c94d23b-6e92-4fc5-b0c5-96a9af7bbb84",
   "metadata": {},
   "outputs": [
    {
     "name": "stdout",
     "output_type": "stream",
     "text": [
      "(6, 7, 8)\n"
     ]
    }
   ],
   "source": [
    "print(tup_set)"
   ]
  },
  {
   "cell_type": "code",
   "execution_count": null,
   "id": "9293d48c-1f6d-4761-aa91-e43f803ed5a4",
   "metadata": {},
   "outputs": [],
   "source": []
  }
 ],
 "metadata": {
  "kernelspec": {
   "display_name": "Python 3 (ipykernel)",
   "language": "python",
   "name": "python3"
  },
  "language_info": {
   "codemirror_mode": {
    "name": "ipython",
    "version": 3
   },
   "file_extension": ".py",
   "mimetype": "text/x-python",
   "name": "python",
   "nbconvert_exporter": "python",
   "pygments_lexer": "ipython3",
   "version": "3.12.4"
  }
 },
 "nbformat": 4,
 "nbformat_minor": 5
}
